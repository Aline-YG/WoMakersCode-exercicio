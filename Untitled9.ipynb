{
  "nbformat": 4,
  "nbformat_minor": 0,
  "metadata": {
    "colab": {
      "provenance": [],
      "authorship_tag": "ABX9TyN+hVbHobKiVZX5hj2HIT0F",
      "include_colab_link": true
    },
    "kernelspec": {
      "name": "python3",
      "display_name": "Python 3"
    },
    "language_info": {
      "name": "python"
    }
  },
  "cells": [
    {
      "cell_type": "markdown",
      "metadata": {
        "id": "view-in-github",
        "colab_type": "text"
      },
      "source": [
        "<a href=\"https://colab.research.google.com/github/Aline-YG/WoMakersCode-exercicio-SQL/blob/main/Untitled9.ipynb\" target=\"_parent\"><img src=\"https://colab.research.google.com/assets/colab-badge.svg\" alt=\"Open In Colab\"/></a>"
      ]
    },
    {
      "cell_type": "markdown",
      "source": [
        "#**Exercícios Banco de Dados**"
      ],
      "metadata": {
        "id": "LK1vo0uy8tBe"
      }
    },
    {
      "cell_type": "markdown",
      "source": [
        "##1. Crie uma tabela chamada \"alunos\" com os seguintes campos: id(inteiro), nome (texto), idade (inteiro) e curso (texto).\n"
      ],
      "metadata": {
        "id": "3WF6k3hg9Ajl"
      }
    },
    {
      "cell_type": "code",
      "execution_count": null,
      "metadata": {
        "id": "dIfHmphj7WcD"
      },
      "outputs": [],
      "source": [
        "import sqlite3 #Importando biblioteca para usar o Python junto com o Banco de Dados\n",
        "\n",
        "conexao = sqlite3.connect('bancoexercicio')\n",
        "cursor = conexao.cursor()"
      ]
    },
    {
      "cell_type": "code",
      "source": [
        "cursor.execute('CREATE TABLE alunos (id INT, nome VARCHAR(100), idade INT, curso VARCHAR(100))')"
      ],
      "metadata": {
        "colab": {
          "base_uri": "https://localhost:8080/",
          "height": 164
        },
        "id": "McVbUU397j64",
        "outputId": "1baa22b8-b0a9-4e5b-fe51-7acd6f8aa5ee"
      },
      "execution_count": null,
      "outputs": [
        {
          "output_type": "error",
          "ename": "OperationalError",
          "evalue": "table alunos already exists",
          "traceback": [
            "\u001b[0;31m---------------------------------------------------------------------------\u001b[0m",
            "\u001b[0;31mOperationalError\u001b[0m                          Traceback (most recent call last)",
            "\u001b[0;32m<ipython-input-12-b2a30eb75eb5>\u001b[0m in \u001b[0;36m<cell line: 1>\u001b[0;34m()\u001b[0m\n\u001b[0;32m----> 1\u001b[0;31m \u001b[0mcursor\u001b[0m\u001b[0;34m.\u001b[0m\u001b[0mexecute\u001b[0m\u001b[0;34m(\u001b[0m\u001b[0;34m'CREATE TABLE alunos (id INT, nome VARCHAR(100), idade INT, curso VARCHAR(100))'\u001b[0m\u001b[0;34m)\u001b[0m\u001b[0;34m\u001b[0m\u001b[0;34m\u001b[0m\u001b[0m\n\u001b[0m",
            "\u001b[0;31mOperationalError\u001b[0m: table alunos already exists"
          ]
        }
      ]
    },
    {
      "cell_type": "markdown",
      "source": [
        "##2. Insira pelo menos 5 registros de alunos na tabela que você criou no exercício anterior.\n"
      ],
      "metadata": {
        "id": "2lC20U7R9QpR"
      }
    },
    {
      "cell_type": "code",
      "source": [
        "cursor.execute('INSERT INTO alunos (id, nome, idade, curso) VALUES (1, \"Aline\", 36, \"Ciência de Dados\")')\n",
        "cursor.execute('INSERT INTO alunos (id, nome, idade, curso) VALUES (2, \"Ivete\", 18, \"Contabilidade\")')\n",
        "cursor.execute('INSERT INTO alunos (id, nome, idade, curso) VALUES (3, \"Larissa\", 22, \"Administração\")')\n",
        "cursor.execute('INSERT INTO alunos (id, nome, idade, curso) VALUES (4, \"Ana Clara\", 16, \"Ciência de Dados\")')\n",
        "cursor.execute('INSERT INTO alunos (id, nome, idade, curso) VALUES (5, \"Ana Maria\", 55, \"Culinária\")')\n",
        "cursor.execute('INSERT INTO alunos (id, nome, idade, curso) VALUES (6, \"Joy\", 40, \"Culinária\")')"
      ],
      "metadata": {
        "colab": {
          "base_uri": "https://localhost:8080/"
        },
        "id": "r9FSTj9f7j3L",
        "outputId": "eebfe39b-e2e4-43a4-e25f-0bf2831836b6"
      },
      "execution_count": null,
      "outputs": [
        {
          "output_type": "execute_result",
          "data": {
            "text/plain": [
              "<sqlite3.Cursor at 0x7a29ff94f640>"
            ]
          },
          "metadata": {},
          "execution_count": 5
        }
      ]
    },
    {
      "cell_type": "markdown",
      "source": [
        "##3. Consultas Básicas. Escreva consultas SQL para realizar as seguintes tarefas:\n"
      ],
      "metadata": {
        "id": "6BozhVya9hwk"
      }
    },
    {
      "cell_type": "markdown",
      "source": [
        "##a) Selecionar todos os registros da tabela \"alunos\".\n"
      ],
      "metadata": {
        "id": "Levjznci9hdu"
      }
    },
    {
      "cell_type": "code",
      "source": [
        "dados = cursor.execute('SELECT * from alunos')\n",
        "for alunos in dados:\n",
        "  print(alunos)"
      ],
      "metadata": {
        "colab": {
          "base_uri": "https://localhost:8080/"
        },
        "id": "z9dVqILC7jzu",
        "outputId": "87eeb45e-e4aa-499b-878b-0dd1f93bfb56"
      },
      "execution_count": null,
      "outputs": [
        {
          "output_type": "stream",
          "name": "stdout",
          "text": [
            "(1, 'Aline', 36, 'Ciência de Dados')\n",
            "(2, 'Ivete', 18, 'Engenharia')\n",
            "(4, 'Ana Clara', 16, 'Ciência de Dados')\n",
            "(5, 'Ana Maria', 55, 'Engenharia')\n",
            "(6, 'Joy', 36, 'Culinária')\n"
          ]
        }
      ]
    },
    {
      "cell_type": "markdown",
      "source": [
        "##b) Selecionar o nome e a idade dos alunos com mais de 20 anos."
      ],
      "metadata": {
        "id": "RG4tOOXX9xyA"
      }
    },
    {
      "cell_type": "code",
      "source": [
        "dados = cursor.execute('SELECT nome, idade from alunos WHERE idade >20')\n",
        "for alunos in dados:\n",
        "  print(alunos)"
      ],
      "metadata": {
        "colab": {
          "base_uri": "https://localhost:8080/"
        },
        "id": "CbIokdS598MT",
        "outputId": "427ac534-409d-457f-c247-58eb9abfe281"
      },
      "execution_count": null,
      "outputs": [
        {
          "output_type": "stream",
          "name": "stdout",
          "text": [
            "('Aline', 36)\n",
            "('Larissa', 22)\n",
            "('Ana Maria', 55)\n",
            "('Joy', 40)\n"
          ]
        }
      ]
    },
    {
      "cell_type": "markdown",
      "source": [
        "##c) Selecionar os alunos do curso de \"Engenharia\" em ordem alfabética."
      ],
      "metadata": {
        "id": "AL6J-H1m90Cx"
      }
    },
    {
      "cell_type": "code",
      "source": [
        "# Alterando o curso de alguns alunos para Engenharia.\n",
        "cursor.execute('UPDATE alunos SET curso = \"Engenharia\" WHERE id = 2')\n",
        "cursor.execute('UPDATE alunos SET curso = \"Engenharia\" WHERE id = 3')\n",
        "cursor.execute('UPDATE alunos SET curso = \"Engenharia\" WHERE id = 5')"
      ],
      "metadata": {
        "colab": {
          "base_uri": "https://localhost:8080/"
        },
        "id": "HyJxKBeaOdly",
        "outputId": "b50613ec-df2b-4e53-ddd3-611977580ff4"
      },
      "execution_count": null,
      "outputs": [
        {
          "output_type": "execute_result",
          "data": {
            "text/plain": [
              "<sqlite3.Cursor at 0x7a29fc3831c0>"
            ]
          },
          "metadata": {},
          "execution_count": 31
        }
      ]
    },
    {
      "cell_type": "code",
      "source": [
        "dados = cursor.execute('SELECT * from alunos WHERE curso = \"Engenharia\" ORDER BY nome')\n",
        "for alunos in dados:\n",
        "  print(alunos)"
      ],
      "metadata": {
        "colab": {
          "base_uri": "https://localhost:8080/"
        },
        "id": "JxQEw5nt-Ltk",
        "outputId": "e3a13d98-6659-4c19-c640-06cd4c91565b"
      },
      "execution_count": null,
      "outputs": [
        {
          "output_type": "stream",
          "name": "stdout",
          "text": [
            "(5, 'Ana Maria', 55, 'Engenharia')\n",
            "(2, 'Ivete', 18, 'Engenharia')\n",
            "(3, 'Larissa', 22, 'Engenharia')\n"
          ]
        }
      ]
    },
    {
      "cell_type": "markdown",
      "source": [
        "##d) Contar o número total de alunos na tabela\n"
      ],
      "metadata": {
        "id": "YGrsu_v-90vh"
      }
    },
    {
      "cell_type": "code",
      "source": [
        "cursor.execute('SELECT COUNT (*) FROM alunos')\n",
        "total_alunos = cursor.fetchone()[0]\n",
        "print(f'Total de alunos: {total_alunos}')"
      ],
      "metadata": {
        "colab": {
          "base_uri": "https://localhost:8080/"
        },
        "id": "80cN6NbP7jv8",
        "outputId": "530a2b47-c68a-4935-eedd-5169d5b97f4f"
      },
      "execution_count": null,
      "outputs": [
        {
          "output_type": "stream",
          "name": "stdout",
          "text": [
            "Total de alunos: 6\n"
          ]
        }
      ]
    },
    {
      "cell_type": "markdown",
      "source": [
        "##4. Atualização e Remoção.\n",
        "\n"
      ],
      "metadata": {
        "id": "dwyXioEbLMQ3"
      }
    },
    {
      "cell_type": "markdown",
      "source": [
        "##a) Atualize a idade de um aluno específico na tabela."
      ],
      "metadata": {
        "id": "ymb8_M8zLL58"
      }
    },
    {
      "cell_type": "code",
      "source": [
        "#Atualizando a idade do aluno de id 6, de 40 anos para 36 anos.\n",
        "cursor.execute('UPDATE alunos SET idade = 36 WHERE id = 6')"
      ],
      "metadata": {
        "colab": {
          "base_uri": "https://localhost:8080/"
        },
        "id": "sk7S3gRRLXGO",
        "outputId": "c08d51bd-4067-430c-8274-632812c1c71a"
      },
      "execution_count": null,
      "outputs": [
        {
          "output_type": "execute_result",
          "data": {
            "text/plain": [
              "<sqlite3.Cursor at 0x7a29fc3831c0>"
            ]
          },
          "metadata": {},
          "execution_count": 34
        }
      ]
    },
    {
      "cell_type": "markdown",
      "source": [
        "##b) Remova um aluno pelo seu ID.\n"
      ],
      "metadata": {
        "id": "fUZgKOPrLa6v"
      }
    },
    {
      "cell_type": "code",
      "source": [
        "#Deletando a aluna de id 3.\n",
        "cursor.execute('DELETE FROM alunos where id = 3')"
      ],
      "metadata": {
        "colab": {
          "base_uri": "https://localhost:8080/"
        },
        "id": "AsE3WghaLb--",
        "outputId": "355a8e9f-8549-4d95-a7e5-494c9a3edc72"
      },
      "execution_count": null,
      "outputs": [
        {
          "output_type": "execute_result",
          "data": {
            "text/plain": [
              "<sqlite3.Cursor at 0x7a29fc3831c0>"
            ]
          },
          "metadata": {},
          "execution_count": 56
        }
      ]
    },
    {
      "cell_type": "markdown",
      "source": [
        "##5. Criar uma Tabela e Inserir Dados. Crie uma tabela chamada \"clientes\" com os campos: id (chave primária), nome (texto), idade (inteiro) e saldo (float). Insira alguns registros de clientes na tabela.\n"
      ],
      "metadata": {
        "id": "JEKcpk_FLkGK"
      }
    },
    {
      "cell_type": "code",
      "source": [
        "cursor.execute('CREATE TABLE clientes (id INT PRIMARY KEY, nome VARCHAR(100), idade INT, saldo DECIMAL(10.0))')"
      ],
      "metadata": {
        "colab": {
          "base_uri": "https://localhost:8080/"
        },
        "id": "j3JfFLO2Ljpg",
        "outputId": "034572db-03ac-4769-bb06-9abbac31d157"
      },
      "execution_count": null,
      "outputs": [
        {
          "output_type": "execute_result",
          "data": {
            "text/plain": [
              "<sqlite3.Cursor at 0x7a29fc3831c0>"
            ]
          },
          "metadata": {},
          "execution_count": 37
        }
      ]
    },
    {
      "cell_type": "code",
      "source": [
        "cursor.execute('INSERT INTO clientes (id, nome, idade, saldo) VALUES (1, \"Aline\", 30, 2000.88)')\n",
        "cursor.execute('INSERT INTO clientes (id, nome, idade, saldo) VALUES (2, \"João\", 21, 555.90)')\n",
        "cursor.execute('INSERT INTO clientes (id, nome, idade, saldo) VALUES (3, \"Maria Lucia\", 17, 354.99)')\n",
        "cursor.execute('INSERT INTO clientes (id, nome, idade, saldo) VALUES (4, \"Joana\", 60, 853.39)')\n",
        "cursor.execute('INSERT INTO clientes (id, nome, idade, saldo) VALUES (5, \"Mauro\", 44, 25.50)')\n"
      ],
      "metadata": {
        "colab": {
          "base_uri": "https://localhost:8080/"
        },
        "id": "ERs0lbIBbag6",
        "outputId": "b4f4b34e-b360-4c4c-b1b8-9b3acdf1b95e"
      },
      "execution_count": null,
      "outputs": [
        {
          "output_type": "execute_result",
          "data": {
            "text/plain": [
              "<sqlite3.Cursor at 0x7a29fc3831c0>"
            ]
          },
          "metadata": {},
          "execution_count": 44
        }
      ]
    },
    {
      "cell_type": "code",
      "source": [
        "dados = cursor.execute('SELECT * from clientes')\n",
        "for clientes in dados:\n",
        "  print(clientes)"
      ],
      "metadata": {
        "colab": {
          "base_uri": "https://localhost:8080/"
        },
        "id": "92A5iVMVcEeO",
        "outputId": "b75e879d-4249-45dc-9103-e5b51d7caa60"
      },
      "execution_count": null,
      "outputs": [
        {
          "output_type": "stream",
          "name": "stdout",
          "text": [
            "(1, 'Aline', 30, 2000.88)\n",
            "(3, 'Maria Lucia', 17, 354.99)\n",
            "(4, 'Joana', 60, 853.39)\n",
            "(5, 'Mauro', 44, 3050.99)\n"
          ]
        }
      ]
    },
    {
      "cell_type": "markdown",
      "source": [
        "##6. Consultas e Funções Agregadas. Escreva consultas SQL para realizar as seguintes tarefas:\n"
      ],
      "metadata": {
        "id": "aLRU9GMHMBPB"
      }
    },
    {
      "cell_type": "markdown",
      "source": [
        "##a) Selecione o nome e a idade dos clientes com idade superior a 30 anos."
      ],
      "metadata": {
        "id": "OcXYwU7yMNHJ"
      }
    },
    {
      "cell_type": "code",
      "source": [
        "dados_clientes = cursor.execute('SELECT nome, idade from clientes WHERE idade >30')\n",
        "for clientes in dados_clientes:\n",
        "  print(clientes)"
      ],
      "metadata": {
        "colab": {
          "base_uri": "https://localhost:8080/"
        },
        "id": "zHYGHBj1MA1x",
        "outputId": "525578a1-8687-4345-b2d4-003163820605"
      },
      "execution_count": null,
      "outputs": [
        {
          "output_type": "stream",
          "name": "stdout",
          "text": [
            "('Joana', 60)\n",
            "('Mauro', 44)\n"
          ]
        }
      ]
    },
    {
      "cell_type": "markdown",
      "source": [
        "##b) Calcule o saldo médio dos clientes.\n"
      ],
      "metadata": {
        "id": "olgzaKRpMVDP"
      }
    },
    {
      "cell_type": "code",
      "source": [
        "cursor.execute('SELECT AVG(saldo) FROM clientes')\n",
        "saldo_medio = cursor.fetchone()[0]\n",
        "print(f\"Saldo médio dos clientes: {saldo_medio:.2f}.\")"
      ],
      "metadata": {
        "colab": {
          "base_uri": "https://localhost:8080/"
        },
        "id": "eVtPdoyvMc2W",
        "outputId": "8629ce39-03b8-4787-83b0-113c4aa22369"
      },
      "execution_count": null,
      "outputs": [
        {
          "output_type": "stream",
          "name": "stdout",
          "text": [
            "Saldo médio dos clientes: 758.13.\n"
          ]
        }
      ]
    },
    {
      "cell_type": "markdown",
      "source": [
        "##c) Encontre o cliente com o saldo máximo.\n"
      ],
      "metadata": {
        "id": "fk5N2rvkMbOG"
      }
    },
    {
      "cell_type": "code",
      "source": [
        "cursor.execute('SELECT nome, saldo FROM clientes ORDER BY saldo DESC LIMIT 1')\n",
        "cliente_saldo_max = cursor.fetchone()\n",
        "print(f'Cliente com maior saldo é {cliente_saldo_max[0]}, com o valor de {cliente_saldo_max[1]}.')"
      ],
      "metadata": {
        "colab": {
          "base_uri": "https://localhost:8080/"
        },
        "id": "hUhfrHXIMawC",
        "outputId": "fc09133a-eb0f-4fbc-e2a2-128339668424"
      },
      "execution_count": null,
      "outputs": [
        {
          "output_type": "stream",
          "name": "stdout",
          "text": [
            "Cliente com maior saldo é Aline, com o valor de 2000.88.\n"
          ]
        }
      ]
    },
    {
      "cell_type": "markdown",
      "source": [
        "##d) Conte quantos clientes têm saldo acima de 1000.\n"
      ],
      "metadata": {
        "id": "3AxYZQwzMjyN"
      }
    },
    {
      "cell_type": "code",
      "source": [
        "cursor.execute('SELECT COUNT (*) FROM clientes WHERE saldo>1000')\n",
        "saldo_maior_1000 = cursor.fetchone()[0]\n",
        "print(f'Quantidade de clientes com saldo acima de 1000: {saldo_maior_1000}')"
      ],
      "metadata": {
        "colab": {
          "base_uri": "https://localhost:8080/"
        },
        "id": "8dl8ohOsMUlZ",
        "outputId": "7df66945-9fac-4f53-a199-9572236ac5f6"
      },
      "execution_count": null,
      "outputs": [
        {
          "output_type": "stream",
          "name": "stdout",
          "text": [
            "Quantidade de clientes com saldo acima de 1000: 1\n"
          ]
        }
      ]
    },
    {
      "cell_type": "markdown",
      "source": [
        "##7. Atualização e Remoção com Condições:"
      ],
      "metadata": {
        "id": "HKDNUqufMqxo"
      }
    },
    {
      "cell_type": "markdown",
      "source": [
        "##a) Atualize o saldo de um cliente específico.\n"
      ],
      "metadata": {
        "id": "6pN5lia8M0u3"
      }
    },
    {
      "cell_type": "code",
      "source": [
        "#Atualizando o saldo do cliente de id 5 de 25.50 para 3050.99.\n",
        "cursor.execute('UPDATE clientes SET saldo = 3050.99 WHERE id = 5')"
      ],
      "metadata": {
        "colab": {
          "base_uri": "https://localhost:8080/"
        },
        "id": "V6vF3GsHMqVZ",
        "outputId": "3ae75201-6f71-4045-a009-1b4e87db6c0b"
      },
      "execution_count": null,
      "outputs": [
        {
          "output_type": "execute_result",
          "data": {
            "text/plain": [
              "<sqlite3.Cursor at 0x7a29fc3831c0>"
            ]
          },
          "metadata": {},
          "execution_count": 54
        }
      ]
    },
    {
      "cell_type": "markdown",
      "source": [
        "##b) Remova um cliente pelo seu ID.\n"
      ],
      "metadata": {
        "id": "th_U086wNDk7"
      }
    },
    {
      "cell_type": "code",
      "source": [
        "#Deletando o cliente de id 2.\n",
        "cursor.execute('DELETE FROM clientes where id = 2')"
      ],
      "metadata": {
        "colab": {
          "base_uri": "https://localhost:8080/"
        },
        "id": "J2IjprAEMqGT",
        "outputId": "3c604996-cfc0-4d01-b459-952b073bdc0f"
      },
      "execution_count": null,
      "outputs": [
        {
          "output_type": "execute_result",
          "data": {
            "text/plain": [
              "<sqlite3.Cursor at 0x7a29fc3831c0>"
            ]
          },
          "metadata": {},
          "execution_count": 57
        }
      ]
    },
    {
      "cell_type": "markdown",
      "source": [
        "##8. Junção de Tabelas. Crie uma segunda tabela chamada \"compras\" com os campos: id (chave primária), cliente_id (chave estrangeira referenciando o id da tabela \"clientes\"), produto (texto) e valor (real). Insira algumas compras associadas a clientes existentes na tabela \"clientes\". Escreva uma consulta para exibir o nome do cliente, o produto e o valor de cada compra."
      ],
      "metadata": {
        "id": "drUGYojUNIq2"
      }
    },
    {
      "cell_type": "code",
      "source": [
        "#Criação da tabela compras\n",
        "cursor.execute('CREATE TABLE compras (id INT PRIMARY KEY, cliente_id INT , produto VARCHAR(80), valor REAL, FOREIGN KEY(cliente_id) REFERENCES clientes(id))')"
      ],
      "metadata": {
        "colab": {
          "base_uri": "https://localhost:8080/"
        },
        "id": "QIuUhpA2Mpyg",
        "outputId": "8e94aaaa-b0c2-4234-ef34-853d3cdd5a6c"
      },
      "execution_count": null,
      "outputs": [
        {
          "output_type": "execute_result",
          "data": {
            "text/plain": [
              "<sqlite3.Cursor at 0x7a29fc3831c0>"
            ]
          },
          "metadata": {},
          "execution_count": 59
        }
      ]
    },
    {
      "cell_type": "code",
      "source": [
        "#Inserção de dados na tabela compras\n",
        "cursor.execute('INSERT INTO compras (id, cliente_id, produto, valor) VALUES (1, 1, \"camisa\", 399.90)')\n",
        "cursor.execute('INSERT INTO compras (id, cliente_id, produto, valor) VALUES (2, 3, \"calça sarja\", 250.00)')\n",
        "cursor.execute('INSERT INTO compras (id, cliente_id, produto, valor) VALUES (3, 5, \"jaqueta denim\", 790.99)')\n"
      ],
      "metadata": {
        "colab": {
          "base_uri": "https://localhost:8080/"
        },
        "id": "PCahdautHAtB",
        "outputId": "55c211bc-c2b4-4466-d7fe-ed24626fe9f6"
      },
      "execution_count": null,
      "outputs": [
        {
          "output_type": "execute_result",
          "data": {
            "text/plain": [
              "<sqlite3.Cursor at 0x7a29fc3831c0>"
            ]
          },
          "metadata": {},
          "execution_count": 62
        }
      ]
    },
    {
      "cell_type": "code",
      "source": [
        "# Conferindo a inserção\n",
        "dados_compras = cursor.execute('SELECT * from compras')\n",
        "for compras in dados_compras:\n",
        "  print(compras)"
      ],
      "metadata": {
        "colab": {
          "base_uri": "https://localhost:8080/"
        },
        "id": "v8U89qN8HApX",
        "outputId": "42a20b05-2fc7-4425-f697-4a8abe83b7f7"
      },
      "execution_count": null,
      "outputs": [
        {
          "output_type": "stream",
          "name": "stdout",
          "text": [
            "(1, 1, 'camisa', 399.9)\n",
            "(2, 3, 'calça sarja', 250.0)\n",
            "(3, 5, 'jaqueta denim', 790.99)\n"
          ]
        }
      ]
    },
    {
      "cell_type": "code",
      "source": [
        "#Select com duas tabelas\n",
        "dados_compras_clientes = cursor.execute('Select nome, produto, valor from compras LEFT JOIN clientes ON compras.cliente_id = clientes.id')\n",
        "for compras in dados_compras_clientes:\n",
        "    print(compras)"
      ],
      "metadata": {
        "colab": {
          "base_uri": "https://localhost:8080/"
        },
        "id": "iIQvXCVHLG2I",
        "outputId": "12372eec-ada6-40fa-9ff0-c7085abb214d"
      },
      "execution_count": null,
      "outputs": [
        {
          "output_type": "stream",
          "name": "stdout",
          "text": [
            "('Aline', 'camisa', 399.9)\n",
            "('Maria Lucia', 'calça sarja', 250.0)\n",
            "('Mauro', 'jaqueta denim', 790.99)\n"
          ]
        }
      ]
    },
    {
      "cell_type": "code",
      "source": [
        "#Commitando e fechando\n",
        "conexao.commit()\n",
        "conexao.close"
      ],
      "metadata": {
        "colab": {
          "base_uri": "https://localhost:8080/"
        },
        "id": "oqMbxoAt7jr2",
        "outputId": "30ff8284-487f-433a-fcf9-c85503df0495"
      },
      "execution_count": null,
      "outputs": [
        {
          "output_type": "execute_result",
          "data": {
            "text/plain": [
              "<function Connection.close()>"
            ]
          },
          "metadata": {},
          "execution_count": 77
        }
      ]
    }
  ]
}